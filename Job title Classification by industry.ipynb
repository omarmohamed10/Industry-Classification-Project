{
 "cells": [
  {
   "cell_type": "markdown",
   "metadata": {},
   "source": [
    "## Problem Formulation\n",
    "\n",
    "You can think of the job industry as the category or general field in which\n",
    "you work. On a job application, **industry** refers to a broad category under\n",
    "which a number of job titles can fall. For example, sales is an industry; job\n",
    "titles under this category can include sales associate, sales manager,\n",
    "manufacturing sales rep, pharmaceutical sales and so on.\n",
    "\n",
    "You are required to build a model using any Machine Learning classifier\n",
    "algorithm to classify job titles by the industry and provide us with insights\n",
    "on how your model works."
   ]
  },
  {
   "cell_type": "markdown",
   "metadata": {},
   "source": [
    "## Import required packages"
   ]
  },
  {
   "cell_type": "code",
   "execution_count": 1,
   "metadata": {},
   "outputs": [],
   "source": [
    "import pandas as pd\n",
    "import numpy as np\n",
    "import matplotlib.pyplot as plt\n",
    "import seaborn as sns\n",
    "import string\n",
    "import nltk\n",
    "from nltk.corpus import stopwords\n",
    "import re\n",
    "from sklearn.ensemble import RandomForestClassifier\n",
    "from sklearn.feature_extraction.text import TfidfVectorizer\n",
    "from sklearn.feature_extraction.text import CountVectorizer\n",
    "from sklearn.feature_extraction.text import TfidfTransformer\n",
    "from sklearn.metrics import classification_report , accuracy_score \n",
    "from sklearn.model_selection import train_test_split\n",
    "from sklearn.utils import resample\n",
    "from joblib import load\n",
    "from joblib import dump\n",
    "import pickle"
   ]
  },
  {
   "cell_type": "markdown",
   "metadata": {},
   "source": [
    "## Data Exploration"
   ]
  },
  {
   "cell_type": "code",
   "execution_count": 2,
   "metadata": {},
   "outputs": [],
   "source": [
    "df = pd.read_csv('Job titles and industries.csv')"
   ]
  },
  {
   "cell_type": "code",
   "execution_count": 3,
   "metadata": {},
   "outputs": [
    {
     "data": {
      "text/plain": [
       "(8586, 2)"
      ]
     },
     "execution_count": 3,
     "metadata": {},
     "output_type": "execute_result"
    }
   ],
   "source": [
    "df.shape"
   ]
  },
  {
   "cell_type": "code",
   "execution_count": 4,
   "metadata": {},
   "outputs": [
    {
     "data": {
      "text/plain": [
       "Index(['job title', 'industry'], dtype='object')"
      ]
     },
     "execution_count": 4,
     "metadata": {},
     "output_type": "execute_result"
    }
   ],
   "source": [
    "df.columns"
   ]
  },
  {
   "cell_type": "code",
   "execution_count": 5,
   "metadata": {},
   "outputs": [
    {
     "data": {
      "text/html": [
       "<div>\n",
       "<style scoped>\n",
       "    .dataframe tbody tr th:only-of-type {\n",
       "        vertical-align: middle;\n",
       "    }\n",
       "\n",
       "    .dataframe tbody tr th {\n",
       "        vertical-align: top;\n",
       "    }\n",
       "\n",
       "    .dataframe thead th {\n",
       "        text-align: right;\n",
       "    }\n",
       "</style>\n",
       "<table border=\"1\" class=\"dataframe\">\n",
       "  <thead>\n",
       "    <tr style=\"text-align: right;\">\n",
       "      <th></th>\n",
       "      <th>job title</th>\n",
       "      <th>industry</th>\n",
       "    </tr>\n",
       "  </thead>\n",
       "  <tbody>\n",
       "    <tr>\n",
       "      <th>0</th>\n",
       "      <td>technical support and helpdesk supervisor - co...</td>\n",
       "      <td>IT</td>\n",
       "    </tr>\n",
       "    <tr>\n",
       "      <th>1</th>\n",
       "      <td>senior technical support engineer</td>\n",
       "      <td>IT</td>\n",
       "    </tr>\n",
       "    <tr>\n",
       "      <th>2</th>\n",
       "      <td>head of it services</td>\n",
       "      <td>IT</td>\n",
       "    </tr>\n",
       "    <tr>\n",
       "      <th>3</th>\n",
       "      <td>js front end engineer</td>\n",
       "      <td>IT</td>\n",
       "    </tr>\n",
       "    <tr>\n",
       "      <th>4</th>\n",
       "      <td>network and telephony controller</td>\n",
       "      <td>IT</td>\n",
       "    </tr>\n",
       "  </tbody>\n",
       "</table>\n",
       "</div>"
      ],
      "text/plain": [
       "                                           job title industry\n",
       "0  technical support and helpdesk supervisor - co...       IT\n",
       "1                  senior technical support engineer       IT\n",
       "2                                head of it services       IT\n",
       "3                              js front end engineer       IT\n",
       "4                   network and telephony controller       IT"
      ]
     },
     "execution_count": 5,
     "metadata": {},
     "output_type": "execute_result"
    }
   ],
   "source": [
    "df.head()"
   ]
  },
  {
   "cell_type": "code",
   "execution_count": 6,
   "metadata": {},
   "outputs": [
    {
     "data": {
      "text/html": [
       "<div>\n",
       "<style scoped>\n",
       "    .dataframe tbody tr th:only-of-type {\n",
       "        vertical-align: middle;\n",
       "    }\n",
       "\n",
       "    .dataframe tbody tr th {\n",
       "        vertical-align: top;\n",
       "    }\n",
       "\n",
       "    .dataframe thead th {\n",
       "        text-align: right;\n",
       "    }\n",
       "</style>\n",
       "<table border=\"1\" class=\"dataframe\">\n",
       "  <thead>\n",
       "    <tr style=\"text-align: right;\">\n",
       "      <th></th>\n",
       "      <th>job title</th>\n",
       "      <th>industry</th>\n",
       "    </tr>\n",
       "  </thead>\n",
       "  <tbody>\n",
       "    <tr>\n",
       "      <th>8581</th>\n",
       "      <td>data entry clerk</td>\n",
       "      <td>Marketing</td>\n",
       "    </tr>\n",
       "    <tr>\n",
       "      <th>8582</th>\n",
       "      <td>content creator</td>\n",
       "      <td>Marketing</td>\n",
       "    </tr>\n",
       "    <tr>\n",
       "      <th>8583</th>\n",
       "      <td>sales &amp; marketing manager</td>\n",
       "      <td>Marketing</td>\n",
       "    </tr>\n",
       "    <tr>\n",
       "      <th>8584</th>\n",
       "      <td>marketing &amp; digital marketing consultant</td>\n",
       "      <td>Marketing</td>\n",
       "    </tr>\n",
       "    <tr>\n",
       "      <th>8585</th>\n",
       "      <td>creative copywriter (arabic/english)</td>\n",
       "      <td>Marketing</td>\n",
       "    </tr>\n",
       "  </tbody>\n",
       "</table>\n",
       "</div>"
      ],
      "text/plain": [
       "                                     job title   industry\n",
       "8581                          data entry clerk  Marketing\n",
       "8582                           content creator  Marketing\n",
       "8583                 sales & marketing manager  Marketing\n",
       "8584  marketing & digital marketing consultant  Marketing\n",
       "8585      creative copywriter (arabic/english)  Marketing"
      ]
     },
     "execution_count": 6,
     "metadata": {},
     "output_type": "execute_result"
    }
   ],
   "source": [
    "df.tail()"
   ]
  },
  {
   "cell_type": "code",
   "execution_count": 7,
   "metadata": {},
   "outputs": [
    {
     "name": "stdout",
     "output_type": "stream",
     "text": [
      "<class 'pandas.core.frame.DataFrame'>\n",
      "RangeIndex: 8586 entries, 0 to 8585\n",
      "Data columns (total 2 columns):\n",
      " #   Column     Non-Null Count  Dtype \n",
      "---  ------     --------------  ----- \n",
      " 0   job title  8586 non-null   object\n",
      " 1   industry   8586 non-null   object\n",
      "dtypes: object(2)\n",
      "memory usage: 134.3+ KB\n"
     ]
    }
   ],
   "source": [
    "df.info()"
   ]
  },
  {
   "cell_type": "code",
   "execution_count": 8,
   "metadata": {},
   "outputs": [
    {
     "name": "stdout",
     "output_type": "stream",
     "text": [
      "number of duplicates records = 4618\n"
     ]
    }
   ],
   "source": [
    "print(f\"number of duplicates records = {len(df[df.duplicated()])}\")"
   ]
  },
  {
   "cell_type": "code",
   "execution_count": 9,
   "metadata": {},
   "outputs": [
    {
     "data": {
      "text/plain": [
       "IT             4746\n",
       "Marketing      2031\n",
       "Education      1435\n",
       "Accountancy     374\n",
       "Name: industry, dtype: int64"
      ]
     },
     "execution_count": 9,
     "metadata": {},
     "output_type": "execute_result"
    }
   ],
   "source": [
    "df['industry'].value_counts()"
   ]
  },
  {
   "cell_type": "markdown",
   "metadata": {},
   "source": [
    "# Cleaning Dataset\n",
    "\n",
    "- Edit columns name\n",
    "- Remove duplicate rows\n",
    "- fix unbalance dataset\n",
    "- Remove punctuation from text data\n",
    "- Tokenization\n",
    "- Remove stopwords\n",
    "- Lemmatize/Stem"
   ]
  },
  {
   "cell_type": "markdown",
   "metadata": {},
   "source": [
    "### Edit columns name"
   ]
  },
  {
   "cell_type": "code",
   "execution_count": 10,
   "metadata": {},
   "outputs": [
    {
     "data": {
      "text/plain": [
       "Index(['job_title', 'industry'], dtype='object')"
      ]
     },
     "execution_count": 10,
     "metadata": {},
     "output_type": "execute_result"
    }
   ],
   "source": [
    "df.rename({'job title':'job_title'} , axis = 1 , inplace = True)\n",
    "df.columns"
   ]
  },
  {
   "cell_type": "markdown",
   "metadata": {},
   "source": [
    "### Remove duplicate rows"
   ]
  },
  {
   "cell_type": "code",
   "execution_count": 11,
   "metadata": {},
   "outputs": [],
   "source": [
    "df.drop_duplicates(subset=['job_title','industry'],keep='first',inplace=True)\n",
    "df = df.reset_index(drop=True)"
   ]
  },
  {
   "cell_type": "code",
   "execution_count": 12,
   "metadata": {},
   "outputs": [
    {
     "data": {
      "text/plain": [
       "(3968, 2)"
      ]
     },
     "execution_count": 12,
     "metadata": {},
     "output_type": "execute_result"
    }
   ],
   "source": [
    "df.shape"
   ]
  },
  {
   "cell_type": "markdown",
   "metadata": {},
   "source": [
    "### fix unbalance dataset"
   ]
  },
  {
   "cell_type": "code",
   "execution_count": 13,
   "metadata": {},
   "outputs": [
    {
     "data": {
      "text/plain": [
       "IT             1529\n",
       "Marketing      1203\n",
       "Education       973\n",
       "Accountancy     263\n",
       "Name: industry, dtype: int64"
      ]
     },
     "execution_count": 13,
     "metadata": {},
     "output_type": "execute_result"
    }
   ],
   "source": [
    "df['industry'].value_counts()"
   ]
  },
  {
   "cell_type": "code",
   "execution_count": 14,
   "metadata": {},
   "outputs": [],
   "source": [
    "df_majority = df[df['industry'] == 'IT']\n",
    "list_of_industry = df['industry'].value_counts().index.tolist()\n",
    "df_copy = df_majority.copy()"
   ]
  },
  {
   "cell_type": "code",
   "execution_count": 15,
   "metadata": {},
   "outputs": [],
   "source": [
    "def resample_data(df,df_copy):\n",
    "    for col in list_of_industry:\n",
    "        if col != 'IT':\n",
    "            df_minority = df[df['industry'] == col]\n",
    "            df_minority_unsample = resample(df_minority , replace = True , \n",
    "                                            n_samples = len(df_majority) , random_state=1)\n",
    "            df_copy = df_copy.append(df_minority_unsample,)\n",
    "            \n",
    "    return df_copy"
   ]
  },
  {
   "cell_type": "code",
   "execution_count": 16,
   "metadata": {},
   "outputs": [],
   "source": [
    "df2 = resample_data(df,df_copy)"
   ]
  },
  {
   "cell_type": "code",
   "execution_count": 17,
   "metadata": {},
   "outputs": [
    {
     "data": {
      "text/plain": [
       "(6116, 2)"
      ]
     },
     "execution_count": 17,
     "metadata": {},
     "output_type": "execute_result"
    }
   ],
   "source": [
    "df2.shape"
   ]
  },
  {
   "cell_type": "code",
   "execution_count": 18,
   "metadata": {},
   "outputs": [
    {
     "data": {
      "text/plain": [
       "Marketing      1529\n",
       "Accountancy    1529\n",
       "IT             1529\n",
       "Education      1529\n",
       "Name: industry, dtype: int64"
      ]
     },
     "execution_count": 18,
     "metadata": {},
     "output_type": "execute_result"
    }
   ],
   "source": [
    "df2['industry'].value_counts()"
   ]
  },
  {
   "cell_type": "code",
   "execution_count": 19,
   "metadata": {},
   "outputs": [],
   "source": [
    "df = df2.copy()"
   ]
  },
  {
   "cell_type": "markdown",
   "metadata": {},
   "source": [
    "### Remove punctuation from text data"
   ]
  },
  {
   "cell_type": "code",
   "execution_count": 20,
   "metadata": {},
   "outputs": [],
   "source": [
    "def remove_punct(text):\n",
    "    clean_text = \"\".join([char for char in text if char not in string.punctuation])\n",
    "    return clean_text"
   ]
  },
  {
   "cell_type": "code",
   "execution_count": 21,
   "metadata": {},
   "outputs": [],
   "source": [
    "df['job_title_cleaned'] = df['job_title'].apply(remove_punct)"
   ]
  },
  {
   "cell_type": "code",
   "execution_count": 22,
   "metadata": {},
   "outputs": [
    {
     "data": {
      "text/html": [
       "<div>\n",
       "<style scoped>\n",
       "    .dataframe tbody tr th:only-of-type {\n",
       "        vertical-align: middle;\n",
       "    }\n",
       "\n",
       "    .dataframe tbody tr th {\n",
       "        vertical-align: top;\n",
       "    }\n",
       "\n",
       "    .dataframe thead th {\n",
       "        text-align: right;\n",
       "    }\n",
       "</style>\n",
       "<table border=\"1\" class=\"dataframe\">\n",
       "  <thead>\n",
       "    <tr style=\"text-align: right;\">\n",
       "      <th></th>\n",
       "      <th>job_title</th>\n",
       "      <th>industry</th>\n",
       "      <th>job_title_cleaned</th>\n",
       "    </tr>\n",
       "  </thead>\n",
       "  <tbody>\n",
       "    <tr>\n",
       "      <th>0</th>\n",
       "      <td>technical support and helpdesk supervisor - co...</td>\n",
       "      <td>IT</td>\n",
       "      <td>technical support and helpdesk supervisor  cou...</td>\n",
       "    </tr>\n",
       "    <tr>\n",
       "      <th>1</th>\n",
       "      <td>senior technical support engineer</td>\n",
       "      <td>IT</td>\n",
       "      <td>senior technical support engineer</td>\n",
       "    </tr>\n",
       "    <tr>\n",
       "      <th>2</th>\n",
       "      <td>head of it services</td>\n",
       "      <td>IT</td>\n",
       "      <td>head of it services</td>\n",
       "    </tr>\n",
       "    <tr>\n",
       "      <th>3</th>\n",
       "      <td>js front end engineer</td>\n",
       "      <td>IT</td>\n",
       "      <td>js front end engineer</td>\n",
       "    </tr>\n",
       "    <tr>\n",
       "      <th>4</th>\n",
       "      <td>network and telephony controller</td>\n",
       "      <td>IT</td>\n",
       "      <td>network and telephony controller</td>\n",
       "    </tr>\n",
       "  </tbody>\n",
       "</table>\n",
       "</div>"
      ],
      "text/plain": [
       "                                           job_title industry  \\\n",
       "0  technical support and helpdesk supervisor - co...       IT   \n",
       "1                  senior technical support engineer       IT   \n",
       "2                                head of it services       IT   \n",
       "3                              js front end engineer       IT   \n",
       "4                   network and telephony controller       IT   \n",
       "\n",
       "                                   job_title_cleaned  \n",
       "0  technical support and helpdesk supervisor  cou...  \n",
       "1                  senior technical support engineer  \n",
       "2                                head of it services  \n",
       "3                              js front end engineer  \n",
       "4                   network and telephony controller  "
      ]
     },
     "execution_count": 22,
     "metadata": {},
     "output_type": "execute_result"
    }
   ],
   "source": [
    "df.head()"
   ]
  },
  {
   "cell_type": "markdown",
   "metadata": {},
   "source": [
    "### Tokenization"
   ]
  },
  {
   "cell_type": "code",
   "execution_count": 23,
   "metadata": {},
   "outputs": [],
   "source": [
    "def tokenize(text):\n",
    "    tokens = re.split('\\W+' , text)\n",
    "    return tokens"
   ]
  },
  {
   "cell_type": "code",
   "execution_count": 24,
   "metadata": {},
   "outputs": [],
   "source": [
    "df['job_title_tokens'] = df['job_title_cleaned'].apply(lambda x : tokenize(x.lower()))"
   ]
  },
  {
   "cell_type": "code",
   "execution_count": 25,
   "metadata": {},
   "outputs": [
    {
     "data": {
      "text/html": [
       "<div>\n",
       "<style scoped>\n",
       "    .dataframe tbody tr th:only-of-type {\n",
       "        vertical-align: middle;\n",
       "    }\n",
       "\n",
       "    .dataframe tbody tr th {\n",
       "        vertical-align: top;\n",
       "    }\n",
       "\n",
       "    .dataframe thead th {\n",
       "        text-align: right;\n",
       "    }\n",
       "</style>\n",
       "<table border=\"1\" class=\"dataframe\">\n",
       "  <thead>\n",
       "    <tr style=\"text-align: right;\">\n",
       "      <th></th>\n",
       "      <th>job_title</th>\n",
       "      <th>industry</th>\n",
       "      <th>job_title_cleaned</th>\n",
       "      <th>job_title_tokens</th>\n",
       "    </tr>\n",
       "  </thead>\n",
       "  <tbody>\n",
       "    <tr>\n",
       "      <th>0</th>\n",
       "      <td>technical support and helpdesk supervisor - co...</td>\n",
       "      <td>IT</td>\n",
       "      <td>technical support and helpdesk supervisor  cou...</td>\n",
       "      <td>[technical, support, and, helpdesk, supervisor...</td>\n",
       "    </tr>\n",
       "    <tr>\n",
       "      <th>1</th>\n",
       "      <td>senior technical support engineer</td>\n",
       "      <td>IT</td>\n",
       "      <td>senior technical support engineer</td>\n",
       "      <td>[senior, technical, support, engineer]</td>\n",
       "    </tr>\n",
       "    <tr>\n",
       "      <th>2</th>\n",
       "      <td>head of it services</td>\n",
       "      <td>IT</td>\n",
       "      <td>head of it services</td>\n",
       "      <td>[head, of, it, services]</td>\n",
       "    </tr>\n",
       "    <tr>\n",
       "      <th>3</th>\n",
       "      <td>js front end engineer</td>\n",
       "      <td>IT</td>\n",
       "      <td>js front end engineer</td>\n",
       "      <td>[js, front, end, engineer]</td>\n",
       "    </tr>\n",
       "    <tr>\n",
       "      <th>4</th>\n",
       "      <td>network and telephony controller</td>\n",
       "      <td>IT</td>\n",
       "      <td>network and telephony controller</td>\n",
       "      <td>[network, and, telephony, controller]</td>\n",
       "    </tr>\n",
       "  </tbody>\n",
       "</table>\n",
       "</div>"
      ],
      "text/plain": [
       "                                           job_title industry  \\\n",
       "0  technical support and helpdesk supervisor - co...       IT   \n",
       "1                  senior technical support engineer       IT   \n",
       "2                                head of it services       IT   \n",
       "3                              js front end engineer       IT   \n",
       "4                   network and telephony controller       IT   \n",
       "\n",
       "                                   job_title_cleaned  \\\n",
       "0  technical support and helpdesk supervisor  cou...   \n",
       "1                  senior technical support engineer   \n",
       "2                                head of it services   \n",
       "3                              js front end engineer   \n",
       "4                   network and telephony controller   \n",
       "\n",
       "                                    job_title_tokens  \n",
       "0  [technical, support, and, helpdesk, supervisor...  \n",
       "1             [senior, technical, support, engineer]  \n",
       "2                           [head, of, it, services]  \n",
       "3                         [js, front, end, engineer]  \n",
       "4              [network, and, telephony, controller]  "
      ]
     },
     "execution_count": 25,
     "metadata": {},
     "output_type": "execute_result"
    }
   ],
   "source": [
    "df.head()"
   ]
  },
  {
   "cell_type": "markdown",
   "metadata": {},
   "source": [
    "### Remove stopwords"
   ]
  },
  {
   "cell_type": "code",
   "execution_count": 26,
   "metadata": {},
   "outputs": [],
   "source": [
    "stop_words = stopwords.words('english')"
   ]
  },
  {
   "cell_type": "code",
   "execution_count": 27,
   "metadata": {},
   "outputs": [],
   "source": [
    "def remove_stopwords(tokens):\n",
    "    words = [token for token in tokens if token not in stop_words]\n",
    "    return words"
   ]
  },
  {
   "cell_type": "code",
   "execution_count": 28,
   "metadata": {},
   "outputs": [],
   "source": [
    "df['job_title_nostop'] = df['job_title_tokens'].apply(remove_stopwords)"
   ]
  },
  {
   "cell_type": "code",
   "execution_count": 29,
   "metadata": {},
   "outputs": [
    {
     "data": {
      "text/html": [
       "<div>\n",
       "<style scoped>\n",
       "    .dataframe tbody tr th:only-of-type {\n",
       "        vertical-align: middle;\n",
       "    }\n",
       "\n",
       "    .dataframe tbody tr th {\n",
       "        vertical-align: top;\n",
       "    }\n",
       "\n",
       "    .dataframe thead th {\n",
       "        text-align: right;\n",
       "    }\n",
       "</style>\n",
       "<table border=\"1\" class=\"dataframe\">\n",
       "  <thead>\n",
       "    <tr style=\"text-align: right;\">\n",
       "      <th></th>\n",
       "      <th>job_title</th>\n",
       "      <th>industry</th>\n",
       "      <th>job_title_cleaned</th>\n",
       "      <th>job_title_tokens</th>\n",
       "      <th>job_title_nostop</th>\n",
       "    </tr>\n",
       "  </thead>\n",
       "  <tbody>\n",
       "    <tr>\n",
       "      <th>0</th>\n",
       "      <td>technical support and helpdesk supervisor - co...</td>\n",
       "      <td>IT</td>\n",
       "      <td>technical support and helpdesk supervisor  cou...</td>\n",
       "      <td>[technical, support, and, helpdesk, supervisor...</td>\n",
       "      <td>[technical, support, helpdesk, supervisor, cou...</td>\n",
       "    </tr>\n",
       "    <tr>\n",
       "      <th>1</th>\n",
       "      <td>senior technical support engineer</td>\n",
       "      <td>IT</td>\n",
       "      <td>senior technical support engineer</td>\n",
       "      <td>[senior, technical, support, engineer]</td>\n",
       "      <td>[senior, technical, support, engineer]</td>\n",
       "    </tr>\n",
       "    <tr>\n",
       "      <th>2</th>\n",
       "      <td>head of it services</td>\n",
       "      <td>IT</td>\n",
       "      <td>head of it services</td>\n",
       "      <td>[head, of, it, services]</td>\n",
       "      <td>[head, services]</td>\n",
       "    </tr>\n",
       "    <tr>\n",
       "      <th>3</th>\n",
       "      <td>js front end engineer</td>\n",
       "      <td>IT</td>\n",
       "      <td>js front end engineer</td>\n",
       "      <td>[js, front, end, engineer]</td>\n",
       "      <td>[js, front, end, engineer]</td>\n",
       "    </tr>\n",
       "    <tr>\n",
       "      <th>4</th>\n",
       "      <td>network and telephony controller</td>\n",
       "      <td>IT</td>\n",
       "      <td>network and telephony controller</td>\n",
       "      <td>[network, and, telephony, controller]</td>\n",
       "      <td>[network, telephony, controller]</td>\n",
       "    </tr>\n",
       "  </tbody>\n",
       "</table>\n",
       "</div>"
      ],
      "text/plain": [
       "                                           job_title industry  \\\n",
       "0  technical support and helpdesk supervisor - co...       IT   \n",
       "1                  senior technical support engineer       IT   \n",
       "2                                head of it services       IT   \n",
       "3                              js front end engineer       IT   \n",
       "4                   network and telephony controller       IT   \n",
       "\n",
       "                                   job_title_cleaned  \\\n",
       "0  technical support and helpdesk supervisor  cou...   \n",
       "1                  senior technical support engineer   \n",
       "2                                head of it services   \n",
       "3                              js front end engineer   \n",
       "4                   network and telephony controller   \n",
       "\n",
       "                                    job_title_tokens  \\\n",
       "0  [technical, support, and, helpdesk, supervisor...   \n",
       "1             [senior, technical, support, engineer]   \n",
       "2                           [head, of, it, services]   \n",
       "3                         [js, front, end, engineer]   \n",
       "4              [network, and, telephony, controller]   \n",
       "\n",
       "                                    job_title_nostop  \n",
       "0  [technical, support, helpdesk, supervisor, cou...  \n",
       "1             [senior, technical, support, engineer]  \n",
       "2                                   [head, services]  \n",
       "3                         [js, front, end, engineer]  \n",
       "4                   [network, telephony, controller]  "
      ]
     },
     "execution_count": 29,
     "metadata": {},
     "output_type": "execute_result"
    }
   ],
   "source": [
    "df.head()"
   ]
  },
  {
   "cell_type": "markdown",
   "metadata": {},
   "source": [
    "### Lemmatize/Stem"
   ]
  },
  {
   "cell_type": "code",
   "execution_count": 30,
   "metadata": {},
   "outputs": [],
   "source": [
    "wn = nltk.WordNetLemmatizer()"
   ]
  },
  {
   "cell_type": "code",
   "execution_count": 31,
   "metadata": {},
   "outputs": [],
   "source": [
    "def lemmatize(words):\n",
    "    lemma_words = [wn.lemmatize(word) for word in words]\n",
    "    return lemma_words"
   ]
  },
  {
   "cell_type": "code",
   "execution_count": 32,
   "metadata": {},
   "outputs": [],
   "source": [
    "df['job_title_lemmatized'] = df['job_title_nostop'].apply(lambda x: lemmatize(x))"
   ]
  },
  {
   "cell_type": "code",
   "execution_count": 33,
   "metadata": {},
   "outputs": [
    {
     "data": {
      "text/html": [
       "<div>\n",
       "<style scoped>\n",
       "    .dataframe tbody tr th:only-of-type {\n",
       "        vertical-align: middle;\n",
       "    }\n",
       "\n",
       "    .dataframe tbody tr th {\n",
       "        vertical-align: top;\n",
       "    }\n",
       "\n",
       "    .dataframe thead th {\n",
       "        text-align: right;\n",
       "    }\n",
       "</style>\n",
       "<table border=\"1\" class=\"dataframe\">\n",
       "  <thead>\n",
       "    <tr style=\"text-align: right;\">\n",
       "      <th></th>\n",
       "      <th>job_title</th>\n",
       "      <th>industry</th>\n",
       "      <th>job_title_cleaned</th>\n",
       "      <th>job_title_tokens</th>\n",
       "      <th>job_title_nostop</th>\n",
       "      <th>job_title_lemmatized</th>\n",
       "    </tr>\n",
       "  </thead>\n",
       "  <tbody>\n",
       "    <tr>\n",
       "      <th>0</th>\n",
       "      <td>technical support and helpdesk supervisor - co...</td>\n",
       "      <td>IT</td>\n",
       "      <td>technical support and helpdesk supervisor  cou...</td>\n",
       "      <td>[technical, support, and, helpdesk, supervisor...</td>\n",
       "      <td>[technical, support, helpdesk, supervisor, cou...</td>\n",
       "      <td>[technical, support, helpdesk, supervisor, cou...</td>\n",
       "    </tr>\n",
       "    <tr>\n",
       "      <th>1</th>\n",
       "      <td>senior technical support engineer</td>\n",
       "      <td>IT</td>\n",
       "      <td>senior technical support engineer</td>\n",
       "      <td>[senior, technical, support, engineer]</td>\n",
       "      <td>[senior, technical, support, engineer]</td>\n",
       "      <td>[senior, technical, support, engineer]</td>\n",
       "    </tr>\n",
       "    <tr>\n",
       "      <th>2</th>\n",
       "      <td>head of it services</td>\n",
       "      <td>IT</td>\n",
       "      <td>head of it services</td>\n",
       "      <td>[head, of, it, services]</td>\n",
       "      <td>[head, services]</td>\n",
       "      <td>[head, service]</td>\n",
       "    </tr>\n",
       "    <tr>\n",
       "      <th>3</th>\n",
       "      <td>js front end engineer</td>\n",
       "      <td>IT</td>\n",
       "      <td>js front end engineer</td>\n",
       "      <td>[js, front, end, engineer]</td>\n",
       "      <td>[js, front, end, engineer]</td>\n",
       "      <td>[j, front, end, engineer]</td>\n",
       "    </tr>\n",
       "    <tr>\n",
       "      <th>4</th>\n",
       "      <td>network and telephony controller</td>\n",
       "      <td>IT</td>\n",
       "      <td>network and telephony controller</td>\n",
       "      <td>[network, and, telephony, controller]</td>\n",
       "      <td>[network, telephony, controller]</td>\n",
       "      <td>[network, telephony, controller]</td>\n",
       "    </tr>\n",
       "    <tr>\n",
       "      <th>5</th>\n",
       "      <td>privileged access management expert</td>\n",
       "      <td>IT</td>\n",
       "      <td>privileged access management expert</td>\n",
       "      <td>[privileged, access, management, expert]</td>\n",
       "      <td>[privileged, access, management, expert]</td>\n",
       "      <td>[privileged, access, management, expert]</td>\n",
       "    </tr>\n",
       "    <tr>\n",
       "      <th>6</th>\n",
       "      <td>devops engineers x 3 - global brand</td>\n",
       "      <td>IT</td>\n",
       "      <td>devops engineers x 3  global brand</td>\n",
       "      <td>[devops, engineers, x, 3, global, brand]</td>\n",
       "      <td>[devops, engineers, x, 3, global, brand]</td>\n",
       "      <td>[devops, engineer, x, 3, global, brand]</td>\n",
       "    </tr>\n",
       "    <tr>\n",
       "      <th>7</th>\n",
       "      <td>data modeller</td>\n",
       "      <td>IT</td>\n",
       "      <td>data modeller</td>\n",
       "      <td>[data, modeller]</td>\n",
       "      <td>[data, modeller]</td>\n",
       "      <td>[data, modeller]</td>\n",
       "    </tr>\n",
       "    <tr>\n",
       "      <th>8</th>\n",
       "      <td>php web developer £45,000 based in london</td>\n",
       "      <td>IT</td>\n",
       "      <td>php web developer £45000 based in london</td>\n",
       "      <td>[php, web, developer, 45000, based, in, london]</td>\n",
       "      <td>[php, web, developer, 45000, based, london]</td>\n",
       "      <td>[php, web, developer, 45000, based, london]</td>\n",
       "    </tr>\n",
       "    <tr>\n",
       "      <th>9</th>\n",
       "      <td>solution / technical architect - ethical brand</td>\n",
       "      <td>IT</td>\n",
       "      <td>solution  technical architect  ethical brand</td>\n",
       "      <td>[solution, technical, architect, ethical, brand]</td>\n",
       "      <td>[solution, technical, architect, ethical, brand]</td>\n",
       "      <td>[solution, technical, architect, ethical, brand]</td>\n",
       "    </tr>\n",
       "  </tbody>\n",
       "</table>\n",
       "</div>"
      ],
      "text/plain": [
       "                                           job_title industry  \\\n",
       "0  technical support and helpdesk supervisor - co...       IT   \n",
       "1                  senior technical support engineer       IT   \n",
       "2                                head of it services       IT   \n",
       "3                              js front end engineer       IT   \n",
       "4                   network and telephony controller       IT   \n",
       "5                privileged access management expert       IT   \n",
       "6                devops engineers x 3 - global brand       IT   \n",
       "7                                      data modeller       IT   \n",
       "8          php web developer £45,000 based in london       IT   \n",
       "9     solution / technical architect - ethical brand       IT   \n",
       "\n",
       "                                   job_title_cleaned  \\\n",
       "0  technical support and helpdesk supervisor  cou...   \n",
       "1                  senior technical support engineer   \n",
       "2                                head of it services   \n",
       "3                              js front end engineer   \n",
       "4                   network and telephony controller   \n",
       "5                privileged access management expert   \n",
       "6                 devops engineers x 3  global brand   \n",
       "7                                      data modeller   \n",
       "8           php web developer £45000 based in london   \n",
       "9       solution  technical architect  ethical brand   \n",
       "\n",
       "                                    job_title_tokens  \\\n",
       "0  [technical, support, and, helpdesk, supervisor...   \n",
       "1             [senior, technical, support, engineer]   \n",
       "2                           [head, of, it, services]   \n",
       "3                         [js, front, end, engineer]   \n",
       "4              [network, and, telephony, controller]   \n",
       "5           [privileged, access, management, expert]   \n",
       "6           [devops, engineers, x, 3, global, brand]   \n",
       "7                                   [data, modeller]   \n",
       "8    [php, web, developer, 45000, based, in, london]   \n",
       "9   [solution, technical, architect, ethical, brand]   \n",
       "\n",
       "                                    job_title_nostop  \\\n",
       "0  [technical, support, helpdesk, supervisor, cou...   \n",
       "1             [senior, technical, support, engineer]   \n",
       "2                                   [head, services]   \n",
       "3                         [js, front, end, engineer]   \n",
       "4                   [network, telephony, controller]   \n",
       "5           [privileged, access, management, expert]   \n",
       "6           [devops, engineers, x, 3, global, brand]   \n",
       "7                                   [data, modeller]   \n",
       "8        [php, web, developer, 45000, based, london]   \n",
       "9   [solution, technical, architect, ethical, brand]   \n",
       "\n",
       "                                job_title_lemmatized  \n",
       "0  [technical, support, helpdesk, supervisor, cou...  \n",
       "1             [senior, technical, support, engineer]  \n",
       "2                                    [head, service]  \n",
       "3                          [j, front, end, engineer]  \n",
       "4                   [network, telephony, controller]  \n",
       "5           [privileged, access, management, expert]  \n",
       "6            [devops, engineer, x, 3, global, brand]  \n",
       "7                                   [data, modeller]  \n",
       "8        [php, web, developer, 45000, based, london]  \n",
       "9   [solution, technical, architect, ethical, brand]  "
      ]
     },
     "execution_count": 33,
     "metadata": {},
     "output_type": "execute_result"
    }
   ],
   "source": [
    "df.head(10)"
   ]
  },
  {
   "cell_type": "code",
   "execution_count": 34,
   "metadata": {},
   "outputs": [
    {
     "data": {
      "text/html": [
       "<div>\n",
       "<style scoped>\n",
       "    .dataframe tbody tr th:only-of-type {\n",
       "        vertical-align: middle;\n",
       "    }\n",
       "\n",
       "    .dataframe tbody tr th {\n",
       "        vertical-align: top;\n",
       "    }\n",
       "\n",
       "    .dataframe thead th {\n",
       "        text-align: right;\n",
       "    }\n",
       "</style>\n",
       "<table border=\"1\" class=\"dataframe\">\n",
       "  <thead>\n",
       "    <tr style=\"text-align: right;\">\n",
       "      <th></th>\n",
       "      <th>job_title</th>\n",
       "      <th>industry</th>\n",
       "      <th>job_title_cleaned</th>\n",
       "      <th>job_title_tokens</th>\n",
       "      <th>job_title_nostop</th>\n",
       "      <th>job_title_lemmatized</th>\n",
       "      <th>job_title_final</th>\n",
       "    </tr>\n",
       "  </thead>\n",
       "  <tbody>\n",
       "    <tr>\n",
       "      <th>0</th>\n",
       "      <td>technical support and helpdesk supervisor - co...</td>\n",
       "      <td>IT</td>\n",
       "      <td>technical support and helpdesk supervisor  cou...</td>\n",
       "      <td>[technical, support, and, helpdesk, supervisor...</td>\n",
       "      <td>[technical, support, helpdesk, supervisor, cou...</td>\n",
       "      <td>[technical, support, helpdesk, supervisor, cou...</td>\n",
       "      <td>technical support helpdesk supervisor county b...</td>\n",
       "    </tr>\n",
       "    <tr>\n",
       "      <th>1</th>\n",
       "      <td>senior technical support engineer</td>\n",
       "      <td>IT</td>\n",
       "      <td>senior technical support engineer</td>\n",
       "      <td>[senior, technical, support, engineer]</td>\n",
       "      <td>[senior, technical, support, engineer]</td>\n",
       "      <td>[senior, technical, support, engineer]</td>\n",
       "      <td>senior technical support engineer</td>\n",
       "    </tr>\n",
       "    <tr>\n",
       "      <th>2</th>\n",
       "      <td>head of it services</td>\n",
       "      <td>IT</td>\n",
       "      <td>head of it services</td>\n",
       "      <td>[head, of, it, services]</td>\n",
       "      <td>[head, services]</td>\n",
       "      <td>[head, service]</td>\n",
       "      <td>head service</td>\n",
       "    </tr>\n",
       "    <tr>\n",
       "      <th>3</th>\n",
       "      <td>js front end engineer</td>\n",
       "      <td>IT</td>\n",
       "      <td>js front end engineer</td>\n",
       "      <td>[js, front, end, engineer]</td>\n",
       "      <td>[js, front, end, engineer]</td>\n",
       "      <td>[j, front, end, engineer]</td>\n",
       "      <td>j front end engineer</td>\n",
       "    </tr>\n",
       "    <tr>\n",
       "      <th>4</th>\n",
       "      <td>network and telephony controller</td>\n",
       "      <td>IT</td>\n",
       "      <td>network and telephony controller</td>\n",
       "      <td>[network, and, telephony, controller]</td>\n",
       "      <td>[network, telephony, controller]</td>\n",
       "      <td>[network, telephony, controller]</td>\n",
       "      <td>network telephony controller</td>\n",
       "    </tr>\n",
       "  </tbody>\n",
       "</table>\n",
       "</div>"
      ],
      "text/plain": [
       "                                           job_title industry  \\\n",
       "0  technical support and helpdesk supervisor - co...       IT   \n",
       "1                  senior technical support engineer       IT   \n",
       "2                                head of it services       IT   \n",
       "3                              js front end engineer       IT   \n",
       "4                   network and telephony controller       IT   \n",
       "\n",
       "                                   job_title_cleaned  \\\n",
       "0  technical support and helpdesk supervisor  cou...   \n",
       "1                  senior technical support engineer   \n",
       "2                                head of it services   \n",
       "3                              js front end engineer   \n",
       "4                   network and telephony controller   \n",
       "\n",
       "                                    job_title_tokens  \\\n",
       "0  [technical, support, and, helpdesk, supervisor...   \n",
       "1             [senior, technical, support, engineer]   \n",
       "2                           [head, of, it, services]   \n",
       "3                         [js, front, end, engineer]   \n",
       "4              [network, and, telephony, controller]   \n",
       "\n",
       "                                    job_title_nostop  \\\n",
       "0  [technical, support, helpdesk, supervisor, cou...   \n",
       "1             [senior, technical, support, engineer]   \n",
       "2                                   [head, services]   \n",
       "3                         [js, front, end, engineer]   \n",
       "4                   [network, telephony, controller]   \n",
       "\n",
       "                                job_title_lemmatized  \\\n",
       "0  [technical, support, helpdesk, supervisor, cou...   \n",
       "1             [senior, technical, support, engineer]   \n",
       "2                                    [head, service]   \n",
       "3                          [j, front, end, engineer]   \n",
       "4                   [network, telephony, controller]   \n",
       "\n",
       "                                     job_title_final  \n",
       "0  technical support helpdesk supervisor county b...  \n",
       "1                  senior technical support engineer  \n",
       "2                                       head service  \n",
       "3                               j front end engineer  \n",
       "4                       network telephony controller  "
      ]
     },
     "execution_count": 34,
     "metadata": {},
     "output_type": "execute_result"
    }
   ],
   "source": [
    "df['job_title_final'] = df['job_title_lemmatized'].apply(lambda x:\" \".join(x))\n",
    "df.head()"
   ]
  },
  {
   "cell_type": "markdown",
   "metadata": {},
   "source": [
    "## Vectorizing Raw Data: TF-IDF\n",
    "\n",
    "Creates a document-term matrix where the columns represent single unique terms (unigrams) but the cell represents a weighting meant to represent how important a word is to a document."
   ]
  },
  {
   "cell_type": "code",
   "execution_count": 35,
   "metadata": {},
   "outputs": [],
   "source": [
    "tfidf_vect = TfidfVectorizer()"
   ]
  },
  {
   "cell_type": "code",
   "execution_count": 36,
   "metadata": {},
   "outputs": [
    {
     "name": "stdout",
     "output_type": "stream",
     "text": [
      "(6116, 1921)\n",
      "['0074', '02', '02fte', '03', '10', '100', '1000', '100120k', '11', '11551', '11teaching', '12', '120000', '125000', '12month', '12mth', '140000', '15', '150', '1500', '17000', '1719k', '175', '18', '18000', '18k', '19', '19000', '1st', '1st2nd', '1st3rd', '20', '200', '20000', '2016', '2018', '2019', '20k', '21000', '21000pa', '21k', '22000', '22k', '23', '23000', '23k', '24000', '24000christchurch', '247', '25', '250', '25000', '250350pd', '2535k', '25k', '26hr', '27000', '275', '27k', '28000', '2831000', '2835k', '285k', '28k', '29000', '299jc', '29k', '2d', '2nd', '2nd3rd', '300', '30000', '3040k', '3045k', '3050000', '30k', '31k', '32000', '325', '32k', '33000', '33k', '34', '35', '350', '35000', '35k', '35kembedded', '365', '37000', '38k', '3d', '3rd', '400', '40000', '4045000', '40k', '41700', '43k', '440per', '45', '450', '45000', '450pd', '4550000', '45k', '475pd', '48000', '50', '500', '50000', '50k', '55000', '5565000', '55k', '5g', '600', '6070k', '60k', '6570000', '65k', '6month', '6th', '70000', '70k', '80', '80000', '80k', '85000', '8590k', '85k', '912', '9m', 'aat', 'aberdeen', 'aberfoyle', 'abingdon', 'abu', 'aca', 'acaacca', 'academic', 'academy', 'acccount', 'access', 'accommodation', 'account', 'accountancy', 'accountant', 'accounting', 'achieving', 'acquisition', 'active', 'activity', 'actuarial', 'ad', 'additional', 'admin', 'administration', 'administrative', 'administrator', 'adminstratorassistant', 'admission', 'adobe', 'adsolutions', 'adult', 'adultsimmediate', 'advertising', 'adviser', 'advisor', 'advisory', 'adwords', 'aem', 'affair', 'affiliate', 'agency', 'agent', 'agile', 'agresso', 'agricultural', 'ai', 'airline', 'airport', 'al', 'alahram', 'alevel', 'alexandria', 'alliance', 'allocator', 'alone', 'alperton', 'alternating', 'amazing', 'amazon', 'amazonebay', 'amp', 'amsterdam', 'analysis', 'analyst', 'analystassistant', 'analystcoordinator', 'analystmultiapplication', 'analystsales', 'analytical', 'analytics', 'android', 'androidios', 'anees', 'anglictinou', 'angular', 'animator', 'anytime', 'anywhere', 'aop', 'ap', 'apac', 'api', 'app', 'application', 'apprenticeship', 'apps', 'appv', 'april', 'arab', 'arabia', 'arabic', 'arabicenglish', 'arcgis', 'architect', 'architecture', 'area', 'arm', 'art', 'artificial', 'artist', 'artwork', 'asahi', 'asap', 'ascot', 'asd', 'asda', 'aspiring', 'aspnet', 'assessment', 'asset', 'assistant', 'assistantbookkeeper', 'assistnat', 'assitant', 'associate', 'assurance', 'assurancecontrols', 'astronomy', 'atl', 'audit', 'auditor', 'augsburg', 'august', 'australia', 'australian', 'author', 'autism', 'auto', 'automation', 'automotive', 'availability', 'available', 'avaya', 'award', 'aws', 'ax', 'axon', 'ayr', 'azure', 'b2b', 'b2c', 'ba', 'babel', 'back', 'backend', 'background', 'backoffice', 'bank', 'banking', 'bankingchange', 'bar', 'barking', 'barnet', 'base', 'based', 'basel', 'basic', 'basildon', 'basingstoke', 'bat', 'baxenden', 'bd', 'bd3', 'beauty', 'become', 'beer', 'behavioral', 'behaviour', 'behavioural', 'belfast', 'ben', 'benefit', 'berkhamsted', 'berkshire', 'berwyn', 'best', 'betfair', 'bi', 'bid', 'bidata', 'biddable', 'big', 'bilingual', 'biller', 'billing', 'biology', 'birmingham', 'biztalk', 'bleeding', 'blockchain', 'blockchaincryptocurrency', 'blog', 'bonus', 'book', 'bookinggo', 'bookkeeper', 'bookkeepertrainee', 'boot', 'borestone', 'borough', 'bournemouth', 'boy', 'bpm', 'braehead', 'bramfeld', 'branch', 'brand', 'branding', 'brent', 'brighton', 'brinny', 'bristol', 'british', 'brno', 'broadband', 'bromley', 'btl', 'build', 'building', 'buisness', 'bursary', 'business', 'businessfinance', 'buyer', 'cable', 'cache', 'cairo', 'call', 'calling', 'camberley', 'cambridge', 'cambridgeshire', 'camden', 'camp', 'campaign', 'canteen', 'capacity', 'card', 'cardiff', 'care', 'career', 'carlow', 'cash', 'cashier', 'cashiering', 'casino', 'category', 'caterham', 'catering', 'catholic', 'cayman', 'cc', 'ccloud', 'ccna', 'ccnp', 'cd', 'center', 'central', 'centre', 'ceo', 'ceomonufya', 'cert', 'certification', 'certified', 'cgui', 'ch0834', 'chain', 'chandigarh', 'change', 'channel', 'character', 'charge', 'charity', 'chat', 'checkpoint', 'chefjenkinsrubygittdd', 'chelmsford', 'chelsea', 'chemistry', 'cheshire', 'chester', 'chesterfield', 'chesterfieldbolton', 'chf', 'chichester', 'chief', 'chigwell', 'child', 'childcare', 'childhood', 'china', 'chinese', 'chromeos', 'ci', 'cima', 'circa', 'cirencester', 'cisa', 'cisco', 'cism', 'cissp', 'citizen', 'citrix', 'city', 'civils', 'clacton', 'claim', 'class', 'classic', 'classroom', 'clearanc', 'clearance', 'cleared', 'clerk', 'client', 'clinical', 'clinicals', 'cloud', 'club', 'cnet', 'co', 'coach', 'cobham', 'coburg', 'cocktail', 'cognitive', 'colchester', 'collection', 'command', 'commercial', 'commisions', 'commission', 'commodity', 'comms', 'communcations', 'communication', 'community', 'comp', 'company', 'competative', 'competitive', 'complex', 'compliance', 'compression', 'computer', 'computing', 'conference', 'configuration', 'connectivity', 'consultancy', 'consultant', 'consulting', 'contact', 'content', 'contract', 'contractor', 'control', 'controlfinance', 'controller', 'controlsaudit', 'conversion', 'coop', 'coordinater', 'coordination', 'coordinator', 'copy', 'copywriter', 'copywriting', 'core', 'corporate', 'country', 'county', 'courier', 'course', 'coventry', 'cover', 'cpython', 'craft', 'creative', 'creativity', 'creator', 'credit', 'crewe', 'criminology', 'critical', 'crm', 'crmdigital', 'cro', 'cross', 'croydon', 'cs', 'csql', 'cto', 'culture', 'customer', 'cyber', 'cybersecurity', 'cypress', 'd365', 'dagenham', 'daily', 'dale', 'dance', 'danish', 'darley', 'darmstadt', 'data', 'database', 'datacentre', 'datatcentre', 'day', 'db', 'dba', 'dbaengineer', 'deaf', 'deep', 'delay', 'delegate', 'delivery', 'department', 'deployment', 'dept', 'deputy', 'derbyshire', 'desginer', 'design', 'designer', 'designerdeveloper', 'designerfinalizer', 'designerisp', 'designing', 'desk', 'desktop', 'dev', 'developer', 'developerengineer', 'developerlaravel', 'developerlondongreat', 'development', 'device', 'devops', 'dhabi', 'didcot', 'digital', 'direct', 'director', 'directory', 'discipline', 'display', 'distributed', 'distributor', 'docker', 'dockerpuppetgit', 'docucare', 'document', 'doe', 'doncaster', 'drama', 'dramatics', 'drum', 'drupal', 'dt', 'dubai', 'dublin', 'dudley', 'dulwich', 'dun', 'dutch', 'duty', 'dv', 'dwh', 'dynamic', 'dynatrace', 'eal', 'ealing', 'early', 'earn', 'east', 'easter', 'eb', 'ebd', 'ec2', 'ece', 'ecofriendly', 'ecommerce', 'ecommercedigital', 'economics', 'economy', 'eddleston', 'edge', 'edinburgh', 'editing', 'editor', 'editorial', 'education', 'educational', 'educator', 'efl', 'egypt', 'egys00034', 'egys00035', 'eh1', 'elastic', 'elasticsearch', 'elearning', 'electrical', 'electronic', 'electronics', 'electronicssoftware', 'elegant', 'elementary', 'eligible', 'ellesmere', 'em', 'email', 'embedded', 'embeddedalgorithm', 'emea', 'end', 'energy', 'enfield', 'engage', 'engagement', 'engineer', 'engineeranalyst', 'engineering', 'engineerproduct', 'engineerssenior', 'engineertechnical', 'engineertrainer', 'english', 'englisharabic', 'enhancing', 'enterprise', 'entry', 'environment', 'epm', 'epos', 'equity', 'era', 'erp', 'es6', 'es6react', 'esher', 'esl', 'essex', 'established', 'estate', 'ethical', 'etl', 'eu', 'euc', 'europe', 'european', 'evaluation', 'event', 'ewm', 'exam', 'excel', 'excellence', 'excellent', 'exciting', 'exec', 'exectuive', 'execution', 'executive', 'executivedigital', 'executivedirector', 'executivejunior', 'executivemanager', 'executiveproduct', 'exhibition', 'exp', 'expanding', 'expatriate', 'experience', 'experienced', 'experiential', 'experimentation', 'expert', 'expertmarketing', 'export', 'express', 'external', 'eyfs', 'eyfsks2', 'fabrication', 'facebook', 'facilitator', 'faculty', 'faith', 'fantastic', 'fareham', 'fashion', 'fast', 'faversham', 'fazakerley', 'felixstowe', 'female', 'ferndown', 'festival', 'fibre', 'field', 'fieldwork', 'fif13322', 'fif13405', 'fif13408', 'filemaker', 'finalizer', 'finance', 'financeaccounts', 'financial', 'financialforce', 'finland', 'fintech', 'fire', 'firm', 'firmware', 'first', 'fitness', 'fix', 'fixed', 'fleet', 'flex', 'flexi', 'flexible', 'float', 'floor', 'floorwalker', 'fluent', 'fly', 'fmcg', 'food', 'forecasting', 'foreign', 'forest', 'fortinet', 'fossoway', 'foundation', 'four', 'fpa', 'fpga', 'frameworkicapital', 'france', 'franchise', 'fraud', 'free', 'freelance', 'freertos', 'french', 'frenchenglish', 'frenchitalianspanish', 'fresh', 'frodsham', 'front', 'frontend', 'ftc', 'ftse', 'ftse100', 'fujitsu', 'fulfilment', 'full', 'fullstack', 'functional', 'fund', 'funding', 'fundraising', 'gain', 'galashiels', 'game', 'gaming', 'gants', 'garden', 'gartner', 'gastropubs', 'gateshead', 'gatwick', 'gcp', 'general', 'generalist', 'genesys', 'geography', 'geospatial', 'german', 'germany', 'get', 'gi', 'gift', 'gillingham', 'girl', 'git', 'glasgow', 'global', 'gloucestershire', 'gn', 'go', 'golang', 'gold', 'goldalming', 'good', 'google', 'governance', 'government', 'governmental', 'grad', 'gradglobal', 'gradjunior', 'gradsc', 'graduate', 'graduatea', 'graduateccna', 'graduatejunior', 'graphic', 'great', 'greater', 'green', 'greenfield', 'greenwich', 'group', 'groupwork', 'growing', 'growth', 'gt', 'guide', 'hacking', 'hackney', 'hadayek', 'hadoop', 'halesowen', 'hamburg', 'hamilton', 'hammersmith', 'hand', 'handler', 'hardware', 'haringey', 'harrogate', 'harrow', 'haslemere', 'havant', 'hayes', 'haywards', 'head', 'headteacher', 'health', 'healthcare', 'healthcarepharmaceutical', 'healthtech', 'hearing', 'heart', 'heath', 'hedge', 'help', 'helpdesk', 'helsinki', 'helwan', 'hibernate', 'high', 'highbury', 'higher', 'hill', 'hillindon', 'hillingdon', 'hire', 'hiring', 'hisar', 'history', 'hlta', 'hmp', 'hod', 'holiday', 'home', 'homeroom', 'homeworking', 'honour', 'hook', 'horley', 'horsforth', 'hospitality', 'hosting', 'hounslow', 'hour', 'house', 'hove', 'hpc', 'hr', 'hrpayroll', 'html', 'html5', 'hubspotmailchimp', 'huge', 'human', 'humanity', 'hybris', 'iac', 'ib', 'iba', 'ibdp', 'ibm', 'ict', 'ictcomputing', 'ideal', 'identity', 'ielts', 'igcse', 'ilford', 'im', 'image', 'immediate', 'immediately', 'immense', 'impact', 'implementation', 'improvement', 'incident', 'income', 'independent', 'india', 'indoor', 'influencer', 'informatica', 'information', 'informationcyber', 'infrastructure', 'inhouse', 'initially', 'inner', 'innovation', 'innovative', 'innovator', 'inside', 'insight', 'insolvency', 'installation', 'instructor', 'instructorpart', 'instructorteacher', 'insurance', 'insurtech', 'integrated', 'integration', 'intelligence', 'interactive', 'interest', 'interface', 'interim', 'intermediary', 'intern', 'internal', 'international', 'internet', 'internship', 'intervention', 'interviewsstart', 'inventory', 'invest', 'investigation', 'investment', 'invigilator', 'invoicing', 'io', 'iosandroid', 'iot', 'ip', 'ir35', 'ireland', 'irmonerstraße', 'islamic', 'island', 'islington', 'isp', 'italian', 'ivr', 'j2ee', 'java', 'javac', 'javacc', 'javascala', 'javascript', 'javatelecoms', 'jewellery', 'jewish', 'jmeter', 'jnr', 'job', 'joseph', 'julyseptember', 'junior', 'juniorgraduate', 'juniormid', 'juniper', 'kafka', 'kassel', 'keeper', 'kenilworth', 'kensington', 'kent', 'kenticoc', 'key', 'keynes', 'kg', 'kgsenior', 'kharar', 'kid', 'kidlington', 'kidsadults', 'kindergarten', 'kingston', 'kinross', 'kit', 'kol', 'korean', 'kotlin', 'kpi', 'ks1', 'ks1ks2', 'ks2', 'ks23', 'ks3', 'ksa', 'kubernetes', 'kuwait', 'l1', 'lab', 'lady', 'lambeth', 'lamp', 'lancashire', 'langlee', 'language', 'laptopsdesktops', 'laravel', 'laravelvuejs', 'large', 'latency', 'law', 'lawyer', 'le', 'lead', 'leader', 'leadership', 'leading', 'learn', 'learner', 'learning', 'leatherhead', 'leavel', 'leaver', 'lecturer', 'ledger', 'ledgeraccounts', 'leeds', 'legal', 'leicestershire', 'leisure', 'level', 'levelsenior', 'lewisham', 'leyland', 'librarian', 'licence', 'life', 'lifestyle', 'like', 'line', 'linedesktop', 'linux', 'literacy', 'live', 'liverpool', 'logistics', 'london', 'looking', 'lovell', 'low', 'lower', 'lowlatency', 'loyalty', 'ls17', 'lsa', 'luxury', 'm5', 'maadi', 'maadicairo', 'macclesfield', 'machine', 'machining', 'magento', 'maidenhead', 'maidstone', 'mainframe', 'mainstream', 'maintenance', 'malta', 'malware', 'managed', 'management', 'managementcommercial', 'manager', 'managerbusiness', 'managerkey', 'managersales', 'managersenior', 'manc', 'manchester', 'mandarin', 'manual', 'manufacturer', 'manufacturing', 'mapping', 'marcomms', 'market', 'marketer', 'marketing', 'marketingcrm', 'marketingpr', 'martech', 'master', 'mat', 'maternity', 'math', 'mathematical', 'mathematics', 'mathsphysics', 'matlab', 'mayfair', 'mba', 'mdm', 'mechanical', 'medical', 'medico', 'medium', 'medway', 'membership', 'mentor', 'merchandiser', 'meter', 'mfl', 'mfta', 'mi', 'microservices', 'microsoft', 'microstrategy', 'mid', 'midday', 'middleware', 'middleweight', 'midland', 'midlevel', 'migration', 'milton', 'mission', 'mixed', 'mobile', 'mobility', 'modeller', 'modelling', 'moderator', 'moga', 'mongo', 'mongodb', 'monitoring', 'month', 'mortgage', 'moscow', 'motion', 'motorsport', 'mpsups', 'msi', 'msp', 'multi', 'multiapplication', 'multichannel', 'multilingual', 'multinational', 'multiple', 'music', 'must', 'mvc', 'mvcwebapi', 'mwd', 'myp', 'mypdp', 'mysql', 'münchen', 'nasr', 'native', 'ndc', 'need', 'needed', 'neg', 'net', 'netbackup', 'netherlands', 'netsuite', 'network', 'networking', 'new', 'newbury', 'newcastle', 'newham', 'newly', 'newport', 'nh', 'night', 'node', 'nodeangular', 'nodejs', 'nodejspythonjava', 'nonarabic', 'nonresidential', 'north', 'northampton', 'northfield', 'norwich', 'nottingham', 'notts', 'npd', 'nqt', 'nqts', 'nr', 'numerous', 'nurse', 'nursery', 'nutrition', 'o365', 'o365emssccmw10', 'objectivec', 'occupational', 'oceana', 'october', 'office', 'office365', 'officer', 'ofsted', 'onboarding', 'one', 'online', 'onsite', 'oo', 'ooplinux', 'opensource', 'operation', 'operational', 'operative', 'operator', 'ophthalmology', 'opportunity', 'ops', 'optimisation', 'option', 'oracle', 'orchestral', 'order', 'organic', 'organisation', 'ormskirk', 'otc', 'ote', 'out', 'outdoor', 'outreach', 'outsourcing', 'outstanding', 'owner', 'ownership', 'oxford', 'oxfordshire', 'oxted', 'p2p', 'pa', 'package', 'packager', 'packaging', 'paddy', 'paid', 'paris', 'parking', 'part', 'partner', 'partnership', 'parttime', 'pattern', 'pay', 'payable', 'paye', 'payment', 'payroll', 'payroller', 'pc', 'pd', 'pdp', 'pe', 'peep', 'pen', 'penetration', 'per', 'percussion', 'performance', 'perm', 'permanent', 'person', 'personal', 'personnel', 'perth', 'peterborough', 'petersfield', 'pgce', 'pharmaceutical', 'phone', 'photographer', 'photography', 'php', 'phpdrupal', 'phpmongodb', 'physic', 'physical', 'physicscomp', 'pi', 'pkc05400', 'pkc05428', 'placement', 'planner', 'planning', 'platform', 'play', 'plsql', 'plus', 'plymouth', 'pm', 'pmld', 'pmo', 'po', 'poland', 'polish', 'politics', 'polyglot', 'poole', 'port', 'porta', 'portal', 'portfolio', 'portsmouth', 'portuguese', 'position', 'post', 'postgresql', 'power', 'powerbi', 'powershell', 'ppa', 'ppc', 'pr', 'practice', 'practioner', 'practitioner', 'pre', 'precision', 'premium', 'prep', 'presales', 'preschool', 'president', 'press', 'preston', 'pricing', 'primary', 'primarytaautistic', 'principal', 'private', 'privileged', 'problem', 'process', 'processing', 'processor', 'procurement', 'producer', 'product', 'production', 'professional', 'professor', 'program', 'programmatic', 'programme', 'programmer', 'programmersolution', 'programming', 'progression', 'project', 'projectbased', 'promotion', 'proofreader', 'property', 'proposal', 'proposition', 'proptech', 'protection', 'provided', 'pru', 'prudence', 'psychologist', 'psychology', 'pt', 'public', 'publisher', 'publishing', 'pupil', 'purchase', 'purchasing', 'purley', 'pyp', 'python', 'pythonautomation', 'qa', 'qatar', 'qlik', 'qts', 'qualified', 'quality', 'quant', 'qube', 'quraan', 'quran', 'quranic', 'rail', 'ranchi', 'ranorex', 'rapidly', 'rate', 'rc', 'rd', 'react', 'reactangularvue', 'reactjs', 'reactnode', 'reading', 'real', 'receivable', 'reception', 'receptionist', 'receptionstudent', 'reconciliation', 'recovery', 'recruiter', 'recruitment', 'redbridge', 'redditch', 'redhat', 'redux', 'referencing', 'referral', 'region', 'regional', 'regulatory', 'reigate', 'reisebüro', 'reiseverkäufer', 'relation', 'relationship', 'release', 'reliability', 'relocate', 'relocation', 'remote', 'remotely', 'removal', 'reporting', 'representative', 'required', 'requirement', 'reseach', 'research', 'researcher', 'residential', 'resource', 'response', 'rest', 'restaurant', 'restructuring', 'retail', 'retailer', 'retention', 'revenue', 'risk', 'riyadh', 'robotics', 'roboticscomputer', 'rochdale', 'role', 'rolecovent', 'rollout', 'romford', 'romsey', 'room', 'rotation', 'royalty', 'rpa', 'ruby', 'rugby', 'rugeley', 'runcorn', 'russia', 'saas', 'sacred', 'safeguarding', 'salam', 'salary', 'sale', 'salesaccount', 'salesforce', 'salford', 'sandness', 'sap', 'saudi', 'savvy', 'sc', 'scala', 'scale', 'scarborough', 'sccm', 'scheme', 'scholar', 'school', 'schoolsksa', 'sci', 'science', 'scienceengineering', 'sciencemathscomputing', 'scienceteaching', 'scientific', 'scientist', 'scorecard', 'scotland', 'scotstoun', 'screening', 'script', 'scripting', 'scrum', 'sdk', 'sdlc', 'search', 'second', 'secondary', 'secretary', 'section', 'sector', 'security', 'seeking', 'selenium', 'selfserve', 'sem', 'semi', 'semisenior', 'sen', 'sence', 'senco', 'send', 'senior', 'seniorlead', 'seo', 'seoppc', 'sept', 'september', 'server', 'service', 'servicenow', 'sessional', 'share', 'shared', 'sharepoint', 'shift', 'side', 'silverstripe', 'sims', 'simulation', 'single', 'site', 'skill', 'skilled', 'skillset', 'slough', 'smart', 'smb', 'sme', 'snr', 'soa04079', 'soa04086', 'soa04142', 'soa04149', 'soc', 'soccer', 'social', 'society', 'sociology', 'software', 'sole', 'solihull', 'solothurn', 'solution', 'source', 'south', 'southampton', 'southend', 'southwark', 'spanish', 'spare', 'speaker', 'speaking', 'special', 'specialist', 'specialista', 'specification', 'spectroscopy', 'speech', 'sponsored', 'sponsorship', 'sport', 'sportsbook', 'sporty', 'spring', 'sql', 'square', 'sr', 'ssrs', 'ssrsssis', 'st', 'stack', 'staff', 'stage', 'stakeholder', 'stand', 'start', 'starting', 'startup', 'station', 'statistic', 'statistical', 'statistician', 'stats', 'stem', 'stirling', 'stockbroker', 'stockport', 'storyteller', 'strategic', 'strategist', 'strategy', 'stratford', 'streaming', 'strong', 'student', 'studio', 'study', 'sub', 'subject', 'subscription', 'success', 'suit', 'suite', 'summer', 'summit', 'sunninghill', 'super', 'superb', 'supervisor', 'supplier', 'supply', 'support', 'support1st2nd', 'supportive', 'supportproject', 'suppport', 'surrey', 'surreywide', 'sussex', 'sustainable', 'sw', 'swhw', 'swift', 'swinton', 'sydney', 'symfony', 'system', 'ta', 'take', 'talent', 'targeting', 'taurian', 'tax', 'tdd', 'teach', 'teacher', 'teacherchemsitry', 'teachercoteacher', 'teachergt', 'teacherhadayek', 'teacherinternational', 'teacherseptember', 'teachersupervisor', 'teachi', 'teaching', 'team', 'teamleader', 'tech', 'technical', 'technician', 'technologist', 'technology', 'tefltesltesol', 'teilzeit', 'telco', 'telecom', 'telecomswireless', 'telemarketing', 'telephony', 'telesales', 'temp', 'temporary', 'tender', 'term', 'termtime', 'test', 'tester', 'testing', 'therapist', 'therapy', 'thinker', 'thriving', 'throughout', 'thurrock', 'tier', 'time', 'tlr', 'togaf', 'tool', 'tooling', 'toot', 'top', 'tour', 'touring', 'tourism', 'track', 'trader', 'trading', 'train', 'trainee', 'trainer', 'trainerinstructor', 'training', 'transaction', 'transactional', 'transfer', 'transformation', 'transition', 'translation', 'translator', 'travel', 'treasurer', 'treasury', 'tsql', 'tunbridge', 'turkey', 'turkish', 'tutor', 'tv', 'tweedbank', 'twin', 'typescript', 'uae', 'uat', 'ucd', 'ui', 'uipath', 'uiux', 'uk', 'uki', 'umbraco', 'uncapped', 'undergraduate', 'underwriter', 'unified', 'unique', 'unit', 'unit4', 'unity', 'university', 'unix', 'unqualified', 'update', 'upper', 'urgent', 'urgently', 'usability', 'user', 'ux', 'uxbridge', 'uxui', 'v6', 'vacancy', 'variety', 'vat', 'vb', 'vb6', 'vbnet', 'vcp', 'vendor', 'vice', 'video', 'vietnam', 'view', 'vip', 'visa', 'vision', 'visionmachine', 'vmware', 'vollzeit', 'vue', 'vuejs', 'wakefield', 'wale', 'wallingford', 'walsall', 'waltham', 'waltononthames', 'wandsworth', 'wanted', 'wanting', 'warehouse', 'warehousing', 'warrington', 'warwickshire', 'watch', 'wearablesraspberry', 'web', 'webprint', 'website', 'websphere', 'wednesbury', 'week', 'weight', 'welcome', 'welding', 'well', 'wembley', 'west', 'western', 'westfalica', 'wide', 'wifi', 'wigan', 'wimbledon', 'wimborne', 'winchester', 'window', 'winning', 'wintel', 'wireless', 'within', 'witney', 'wm', 'woking', 'woodwind', 'wordpress', 'work', 'worker', 'working', 'workplace', 'world', 'would', 'wpf', 'wrexham', 'writer', 'writing', 'x2', 'x3', 'x4', 'xml', 'xwgc', 'year', 'york', 'yorkshire', 'young', 'youth', 'youtube', 'قرآن', 'محفظة', 'مشرفة']\n"
     ]
    }
   ],
   "source": [
    "X_tfidf = tfidf_vect.fit_transform(df['job_title_final'])\n",
    "print(X_tfidf.shape)\n",
    "print(tfidf_vect.get_feature_names())"
   ]
  },
  {
   "cell_type": "code",
   "execution_count": 37,
   "metadata": {},
   "outputs": [],
   "source": [
    "X_tfidf = pd.DataFrame(X_tfidf.toarray())\n",
    "X_tfidf.columns = tfidf_vect.get_feature_names()"
   ]
  },
  {
   "cell_type": "markdown",
   "metadata": {},
   "source": [
    "## Feature Engineering\n",
    "\n",
    "- create new column called **text_len** which count no of characters of text\n",
    "- create new column called **count_punct**"
   ]
  },
  {
   "cell_type": "code",
   "execution_count": 38,
   "metadata": {},
   "outputs": [],
   "source": [
    "df['text_len'] = df['job_title_final'].apply(lambda x:len(x) - x.count(' '))"
   ]
  },
  {
   "cell_type": "code",
   "execution_count": 39,
   "metadata": {},
   "outputs": [],
   "source": [
    "def count_punct(text):\n",
    "    c = sum([1 for char in text if char in string.punctuation])\n",
    "    return c"
   ]
  },
  {
   "cell_type": "code",
   "execution_count": 40,
   "metadata": {},
   "outputs": [],
   "source": [
    "df['count_punct'] = df['job_title'].apply(count_punct)"
   ]
  },
  {
   "cell_type": "code",
   "execution_count": 41,
   "metadata": {},
   "outputs": [
    {
     "data": {
      "text/html": [
       "<div>\n",
       "<style scoped>\n",
       "    .dataframe tbody tr th:only-of-type {\n",
       "        vertical-align: middle;\n",
       "    }\n",
       "\n",
       "    .dataframe tbody tr th {\n",
       "        vertical-align: top;\n",
       "    }\n",
       "\n",
       "    .dataframe thead th {\n",
       "        text-align: right;\n",
       "    }\n",
       "</style>\n",
       "<table border=\"1\" class=\"dataframe\">\n",
       "  <thead>\n",
       "    <tr style=\"text-align: right;\">\n",
       "      <th></th>\n",
       "      <th>job_title</th>\n",
       "      <th>industry</th>\n",
       "      <th>job_title_cleaned</th>\n",
       "      <th>job_title_tokens</th>\n",
       "      <th>job_title_nostop</th>\n",
       "      <th>job_title_lemmatized</th>\n",
       "      <th>job_title_final</th>\n",
       "      <th>text_len</th>\n",
       "      <th>count_punct</th>\n",
       "    </tr>\n",
       "  </thead>\n",
       "  <tbody>\n",
       "    <tr>\n",
       "      <th>0</th>\n",
       "      <td>technical support and helpdesk supervisor - co...</td>\n",
       "      <td>IT</td>\n",
       "      <td>technical support and helpdesk supervisor  cou...</td>\n",
       "      <td>[technical, support, and, helpdesk, supervisor...</td>\n",
       "      <td>[technical, support, helpdesk, supervisor, cou...</td>\n",
       "      <td>[technical, support, helpdesk, supervisor, cou...</td>\n",
       "      <td>technical support helpdesk supervisor county b...</td>\n",
       "      <td>59</td>\n",
       "      <td>2</td>\n",
       "    </tr>\n",
       "    <tr>\n",
       "      <th>1</th>\n",
       "      <td>senior technical support engineer</td>\n",
       "      <td>IT</td>\n",
       "      <td>senior technical support engineer</td>\n",
       "      <td>[senior, technical, support, engineer]</td>\n",
       "      <td>[senior, technical, support, engineer]</td>\n",
       "      <td>[senior, technical, support, engineer]</td>\n",
       "      <td>senior technical support engineer</td>\n",
       "      <td>30</td>\n",
       "      <td>0</td>\n",
       "    </tr>\n",
       "    <tr>\n",
       "      <th>2</th>\n",
       "      <td>head of it services</td>\n",
       "      <td>IT</td>\n",
       "      <td>head of it services</td>\n",
       "      <td>[head, of, it, services]</td>\n",
       "      <td>[head, services]</td>\n",
       "      <td>[head, service]</td>\n",
       "      <td>head service</td>\n",
       "      <td>11</td>\n",
       "      <td>0</td>\n",
       "    </tr>\n",
       "    <tr>\n",
       "      <th>3</th>\n",
       "      <td>js front end engineer</td>\n",
       "      <td>IT</td>\n",
       "      <td>js front end engineer</td>\n",
       "      <td>[js, front, end, engineer]</td>\n",
       "      <td>[js, front, end, engineer]</td>\n",
       "      <td>[j, front, end, engineer]</td>\n",
       "      <td>j front end engineer</td>\n",
       "      <td>17</td>\n",
       "      <td>0</td>\n",
       "    </tr>\n",
       "    <tr>\n",
       "      <th>4</th>\n",
       "      <td>network and telephony controller</td>\n",
       "      <td>IT</td>\n",
       "      <td>network and telephony controller</td>\n",
       "      <td>[network, and, telephony, controller]</td>\n",
       "      <td>[network, telephony, controller]</td>\n",
       "      <td>[network, telephony, controller]</td>\n",
       "      <td>network telephony controller</td>\n",
       "      <td>26</td>\n",
       "      <td>0</td>\n",
       "    </tr>\n",
       "  </tbody>\n",
       "</table>\n",
       "</div>"
      ],
      "text/plain": [
       "                                           job_title industry  \\\n",
       "0  technical support and helpdesk supervisor - co...       IT   \n",
       "1                  senior technical support engineer       IT   \n",
       "2                                head of it services       IT   \n",
       "3                              js front end engineer       IT   \n",
       "4                   network and telephony controller       IT   \n",
       "\n",
       "                                   job_title_cleaned  \\\n",
       "0  technical support and helpdesk supervisor  cou...   \n",
       "1                  senior technical support engineer   \n",
       "2                                head of it services   \n",
       "3                              js front end engineer   \n",
       "4                   network and telephony controller   \n",
       "\n",
       "                                    job_title_tokens  \\\n",
       "0  [technical, support, and, helpdesk, supervisor...   \n",
       "1             [senior, technical, support, engineer]   \n",
       "2                           [head, of, it, services]   \n",
       "3                         [js, front, end, engineer]   \n",
       "4              [network, and, telephony, controller]   \n",
       "\n",
       "                                    job_title_nostop  \\\n",
       "0  [technical, support, helpdesk, supervisor, cou...   \n",
       "1             [senior, technical, support, engineer]   \n",
       "2                                   [head, services]   \n",
       "3                         [js, front, end, engineer]   \n",
       "4                   [network, telephony, controller]   \n",
       "\n",
       "                                job_title_lemmatized  \\\n",
       "0  [technical, support, helpdesk, supervisor, cou...   \n",
       "1             [senior, technical, support, engineer]   \n",
       "2                                    [head, service]   \n",
       "3                          [j, front, end, engineer]   \n",
       "4                   [network, telephony, controller]   \n",
       "\n",
       "                                     job_title_final  text_len  count_punct  \n",
       "0  technical support helpdesk supervisor county b...        59            2  \n",
       "1                  senior technical support engineer        30            0  \n",
       "2                                       head service        11            0  \n",
       "3                               j front end engineer        17            0  \n",
       "4                       network telephony controller        26            0  "
      ]
     },
     "execution_count": 41,
     "metadata": {},
     "output_type": "execute_result"
    }
   ],
   "source": [
    "df.head()"
   ]
  },
  {
   "cell_type": "markdown",
   "metadata": {},
   "source": [
    "## Data Visualization :  Distribution for new columns"
   ]
  },
  {
   "cell_type": "code",
   "execution_count": 42,
   "metadata": {},
   "outputs": [
    {
     "data": {
      "image/png": "[encoded data removed]",
      "text/plain": [
       "<Figure size 648x432 with 1 Axes>"
      ]
     },
     "metadata": {},
     "output_type": "display_data"
    }
   ],
   "source": [
    "plt.style.use('ggplot')\n",
    "fig , ax = plt.subplots(figsize=(9,6))\n",
    "ax.hist(df['text_len'] , bins = 50)\n",
    "ax.set_title('Distribution for text_len column')\n",
    "plt.show()"
   ]
  },
  {
   "cell_type": "code",
   "execution_count": 43,
   "metadata": {
    "scrolled": true
   },
   "outputs": [
    {
     "data": {
      "image/png": "[encoded data removed]",
      "text/plain": [
       "<Figure size 648x432 with 1 Axes>"
      ]
     },
     "metadata": {},
     "output_type": "display_data"
    }
   ],
   "source": [
    "fig , ax = plt.subplots(figsize=(9,6))\n",
    "ax.hist(df['count_punct'],bins=range(0,15))\n",
    "ax.set_title('Distribution for count_punct column')\n",
    "plt.show()"
   ]
  },
  {
   "cell_type": "markdown",
   "metadata": {},
   "source": [
    "## Build Random Forest Classifer"
   ]
  },
  {
   "cell_type": "code",
   "execution_count": 44,
   "metadata": {},
   "outputs": [],
   "source": [
    "X_features = df['job_title_final']\n",
    "y = df['industry']\n",
    "\n",
    "count_vect = CountVectorizer()\n",
    "X_features_counts = count_vect.fit_transform(X_features)\n",
    "\n",
    "tfidf_transformer = TfidfTransformer()\n",
    "X_features_tfidf = tfidf_transformer.fit_transform(X_features_counts)"
   ]
  },
  {
   "cell_type": "code",
   "execution_count": 45,
   "metadata": {},
   "outputs": [
    {
     "data": {
      "text/plain": [
       "(6116, 1921)"
      ]
     },
     "execution_count": 45,
     "metadata": {},
     "output_type": "execute_result"
    }
   ],
   "source": [
    "X_features_tfidf.shape"
   ]
  },
  {
   "cell_type": "code",
   "execution_count": 46,
   "metadata": {},
   "outputs": [],
   "source": [
    "X_train , X_test , y_train , y_test = train_test_split(X_features_tfidf , y , test_size = 0.2 , random_state=42)"
   ]
  },
  {
   "cell_type": "code",
   "execution_count": 47,
   "metadata": {},
   "outputs": [],
   "source": [
    "rf = RandomForestClassifier()\n",
    "rf_model = rf.fit(X_train, y_train)"
   ]
  },
  {
   "cell_type": "code",
   "execution_count": 48,
   "metadata": {},
   "outputs": [],
   "source": [
    "y_pred = rf_model.predict(X_test)"
   ]
  },
  {
   "cell_type": "code",
   "execution_count": 49,
   "metadata": {},
   "outputs": [
    {
     "data": {
      "text/html": [
       "<div>\n",
       "<style scoped>\n",
       "    .dataframe tbody tr th:only-of-type {\n",
       "        vertical-align: middle;\n",
       "    }\n",
       "\n",
       "    .dataframe tbody tr th {\n",
       "        vertical-align: top;\n",
       "    }\n",
       "\n",
       "    .dataframe thead th {\n",
       "        text-align: right;\n",
       "    }\n",
       "</style>\n",
       "<table border=\"1\" class=\"dataframe\">\n",
       "  <thead>\n",
       "    <tr style=\"text-align: right;\">\n",
       "      <th></th>\n",
       "      <th>y_actual</th>\n",
       "      <th>y_predict</th>\n",
       "    </tr>\n",
       "  </thead>\n",
       "  <tbody>\n",
       "    <tr>\n",
       "      <th>3316</th>\n",
       "      <td>Accountancy</td>\n",
       "      <td>Accountancy</td>\n",
       "    </tr>\n",
       "    <tr>\n",
       "      <th>3134</th>\n",
       "      <td>Accountancy</td>\n",
       "      <td>Accountancy</td>\n",
       "    </tr>\n",
       "    <tr>\n",
       "      <th>2813</th>\n",
       "      <td>Education</td>\n",
       "      <td>Education</td>\n",
       "    </tr>\n",
       "    <tr>\n",
       "      <th>1554</th>\n",
       "      <td>Marketing</td>\n",
       "      <td>Marketing</td>\n",
       "    </tr>\n",
       "    <tr>\n",
       "      <th>3366</th>\n",
       "      <td>Accountancy</td>\n",
       "      <td>Accountancy</td>\n",
       "    </tr>\n",
       "    <tr>\n",
       "      <th>1402</th>\n",
       "      <td>Marketing</td>\n",
       "      <td>Marketing</td>\n",
       "    </tr>\n",
       "    <tr>\n",
       "      <th>3385</th>\n",
       "      <td>Accountancy</td>\n",
       "      <td>Accountancy</td>\n",
       "    </tr>\n",
       "    <tr>\n",
       "      <th>1836</th>\n",
       "      <td>Marketing</td>\n",
       "      <td>Marketing</td>\n",
       "    </tr>\n",
       "    <tr>\n",
       "      <th>2500</th>\n",
       "      <td>Education</td>\n",
       "      <td>Education</td>\n",
       "    </tr>\n",
       "    <tr>\n",
       "      <th>2672</th>\n",
       "      <td>Education</td>\n",
       "      <td>Education</td>\n",
       "    </tr>\n",
       "  </tbody>\n",
       "</table>\n",
       "</div>"
      ],
      "text/plain": [
       "         y_actual    y_predict\n",
       "3316  Accountancy  Accountancy\n",
       "3134  Accountancy  Accountancy\n",
       "2813    Education    Education\n",
       "1554    Marketing    Marketing\n",
       "3366  Accountancy  Accountancy\n",
       "1402    Marketing    Marketing\n",
       "3385  Accountancy  Accountancy\n",
       "1836    Marketing    Marketing\n",
       "2500    Education    Education\n",
       "2672    Education    Education"
      ]
     },
     "execution_count": 49,
     "metadata": {},
     "output_type": "execute_result"
    }
   ],
   "source": [
    "comparsion = pd.DataFrame({'y_actual':y_test , 'y_predict':y_pred})\n",
    "comparsion.head(10)"
   ]
  },
  {
   "cell_type": "code",
   "execution_count": 50,
   "metadata": {},
   "outputs": [
    {
     "name": "stdout",
     "output_type": "stream",
     "text": [
      "Accuracy = 94.853%\n"
     ]
    }
   ],
   "source": [
    "score = accuracy_score(y_test , y_pred)\n",
    "print(f\"Accuracy = {round(score,5)*100}%\")"
   ]
  },
  {
   "cell_type": "code",
   "execution_count": 51,
   "metadata": {},
   "outputs": [
    {
     "name": "stdout",
     "output_type": "stream",
     "text": [
      "              precision    recall  f1-score   support\n",
      "\n",
      "          IT       0.98      1.00      0.99       291\n",
      "   Marketing       0.95      0.95      0.95       285\n",
      "   Education       0.98      0.88      0.93       331\n",
      " Accountancy       0.90      0.97      0.93       317\n",
      "\n",
      "    accuracy                           0.95      1224\n",
      "   macro avg       0.95      0.95      0.95      1224\n",
      "weighted avg       0.95      0.95      0.95      1224\n",
      "\n"
     ]
    }
   ],
   "source": [
    "print(classification_report(y_test, y_pred, \n",
    "                                    target_names=df['industry'].unique()))"
   ]
  },
  {
   "cell_type": "code",
   "execution_count": 52,
   "metadata": {},
   "outputs": [
    {
     "data": {
      "text/plain": [
       "array(['IT'], dtype=object)"
      ]
     },
     "execution_count": 52,
     "metadata": {},
     "output_type": "execute_result"
    }
   ],
   "source": [
    "rf_model.predict(count_vect.transform(['software developer']))"
   ]
  },
  {
   "cell_type": "code",
   "execution_count": 53,
   "metadata": {},
   "outputs": [
    {
     "data": {
      "text/plain": [
       "array(['Education'], dtype=object)"
      ]
     },
     "execution_count": 53,
     "metadata": {},
     "output_type": "execute_result"
    }
   ],
   "source": [
    "rf_model.predict(count_vect.transform(['teacher']))"
   ]
  },
  {
   "cell_type": "markdown",
   "metadata": {},
   "source": [
    "## Save our model"
   ]
  },
  {
   "cell_type": "code",
   "execution_count": 54,
   "metadata": {},
   "outputs": [],
   "source": [
    "fileName = 'rf_model.pkl'"
   ]
  },
  {
   "cell_type": "code",
   "execution_count": 55,
   "metadata": {},
   "outputs": [],
   "source": [
    "with open(fileName , 'wb') as f:\n",
    "    pickle.dump((count_vect , rf_model),f)"
   ]
  },
  {
   "cell_type": "code",
   "execution_count": 56,
   "metadata": {},
   "outputs": [],
   "source": [
    "with open(fileName,'rb') as f:\n",
    "    count_vectorizer , model = pickle.load(f)"
   ]
  },
  {
   "cell_type": "code",
   "execution_count": 57,
   "metadata": {},
   "outputs": [
    {
     "data": {
      "text/plain": [
       "array(['Marketing'], dtype=object)"
      ]
     },
     "execution_count": 57,
     "metadata": {},
     "output_type": "execute_result"
    }
   ],
   "source": [
    "model.predict(count_vectorizer.transform(['copywriter']))"
   ]
  }
 ],
 "metadata": {
  "kernelspec": {
   "display_name": "Python 3",
   "language": "python",
   "name": "python3"
  },
  "language_info": {
   "codemirror_mode": {
    "name": "ipython",
    "version": 3
   },
   "file_extension": ".py",
   "mimetype": "text/x-python",
   "name": "python",
   "nbconvert_exporter": "python",
   "pygments_lexer": "ipython3",
   "version": "3.7.4"
  }
 },
 "nbformat": 4,
 "nbformat_minor": 2
}
